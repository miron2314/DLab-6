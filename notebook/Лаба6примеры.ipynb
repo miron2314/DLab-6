{
  "nbformat": 4,
  "nbformat_minor": 0,
  "metadata": {
    "colab": {
      "provenance": []
    },
    "kernelspec": {
      "name": "python3",
      "display_name": "Python 3"
    },
    "language_info": {
      "name": "python"
    }
  },
  "cells": [
    {
      "cell_type": "code",
      "execution_count": null,
      "metadata": {
        "colab": {
          "base_uri": "https://localhost:8080/"
        },
        "id": "bBkotZpEXgFb",
        "outputId": "ba2739d6-ae7e-48ad-b048-dc06c7ca3993"
      },
      "outputs": [
        {
          "output_type": "stream",
          "name": "stdout",
          "text": [
            "     Имя  Возраст        Город\n",
            "0   Анна     25.0       Москва\n",
            "1   Иван     30.0         None\n",
            "2  Ольга      NaN       Казань\n",
            "3   None     40.0  Новосибирск\n",
            "4  Мария     35.0          СПб\n"
          ]
        }
      ],
      "source": [
        "import pandas as pd\n",
        "data = {\n",
        "\"Имя\": [\"Анна\", \"Иван\", \"Ольга\", None, \"Мария\"],\n",
        "\"Возраст\": [25, 30, None, 40, 35],\n",
        "\"Город\": [\"Москва\", None, \"Казань\", \"Новосибирск\", \"СПб\"]\n",
        "}\n",
        "df = pd.DataFrame(data)\n",
        "print(df)"
      ]
    },
    {
      "cell_type": "code",
      "source": [
        "import pandas as pd\n",
        "import numpy as np\n",
        "data = {\n",
        "\"Имя\": [\"Анна\", \"Иван\", \"Ольга\", \"Петр\", \"Мария\", \"Дмитрий\"],\n",
        "\"Возраст\": [25, np.nan, 22, 40, 35, np.nan],\n",
        "\"Город\": [\"Москва\", \"СПб\", np.nan, \"Новосибирск\", \"СПб\",\n",
        "\"Екатеринбург\"],\n",
        "\"Доход\": [50000, 60000, np.nan, 70000, 65000, 55000]\n",
        "}\n",
        "df = pd.DataFrame(data)\n",
        "print(df)"
      ],
      "metadata": {
        "colab": {
          "base_uri": "https://localhost:8080/"
        },
        "id": "JSjOcS_RXv2R",
        "outputId": "d2b6b3b0-f945-4ca6-e85c-f23d17eb4499"
      },
      "execution_count": null,
      "outputs": [
        {
          "output_type": "stream",
          "name": "stdout",
          "text": [
            "       Имя  Возраст         Город    Доход\n",
            "0     Анна     25.0        Москва  50000.0\n",
            "1     Иван      NaN           СПб  60000.0\n",
            "2    Ольга     22.0           NaN      NaN\n",
            "3     Петр     40.0   Новосибирск  70000.0\n",
            "4    Мария     35.0           СПб  65000.0\n",
            "5  Дмитрий      NaN  Екатеринбург  55000.0\n"
          ]
        }
      ]
    },
    {
      "cell_type": "code",
      "source": [
        "import pandas as pd\n",
        "import numpy as np\n",
        "# Генерируем DataFrame с пропусками\n",
        "np.random.seed(42)\n",
        "data = {\n",
        "\"Имя\": [\"Анна\", \"Иван\", \"Ольга\", \"Петр\", \"Мария\", \"Дмитрий\",\n",
        "\"Елена\", \"Сергей\", \"Алина\", \"Артем\"],\n",
        "\"Возраст\": [25, np.nan, 22, 40, 35, np.nan, 28, 31, np.nan, 29],\n",
        "\"Город\": [\"Москва\", \"СПб\", np.nan, \"Новосибирск\", \"СПб\",\n",
        "\"Екатеринбург\", np.nan, \"Казань\", \"Томск\", np.nan],\n",
        "\"Доход\": [50000, 60000, np.nan, 70000, 65000, 55000, 48000,\n",
        "np.nan, 52000, 58000],\n",
        "\"Образование\": [np.nan, \"Высшее\", \"Среднее\", \"Высшее\", np.nan,\n",
        "\"Высшее\", \"Среднее\", \"Высшее\", np.nan, \"Среднее\"],\n",
        "\"Стаж работы\": [3, 8, 1, 15, 10, np.nan, 5, 7, np.nan, 2]\n",
        "}\n",
        "df = pd.DataFrame(data)\n",
        "print(df)"
      ],
      "metadata": {
        "colab": {
          "base_uri": "https://localhost:8080/"
        },
        "id": "4fMdT2BUXs9k",
        "outputId": "f2606cdf-c996-4b8f-ce6f-1bc3305e7a38"
      },
      "execution_count": null,
      "outputs": [
        {
          "output_type": "stream",
          "name": "stdout",
          "text": [
            "       Имя  Возраст         Город    Доход Образование  Стаж работы\n",
            "0     Анна     25.0        Москва  50000.0         NaN          3.0\n",
            "1     Иван      NaN           СПб  60000.0      Высшее          8.0\n",
            "2    Ольга     22.0           NaN      NaN     Среднее          1.0\n",
            "3     Петр     40.0   Новосибирск  70000.0      Высшее         15.0\n",
            "4    Мария     35.0           СПб  65000.0         NaN         10.0\n",
            "5  Дмитрий      NaN  Екатеринбург  55000.0      Высшее          NaN\n",
            "6    Елена     28.0           NaN  48000.0     Среднее          5.0\n",
            "7   Сергей     31.0        Казань      NaN      Высшее          7.0\n",
            "8    Алина      NaN         Томск  52000.0         NaN          NaN\n",
            "9    Артем     29.0           NaN  58000.0     Среднее          2.0\n"
          ]
        }
      ]
    },
    {
      "cell_type": "code",
      "source": [
        "import pandas as pd\n",
        "import numpy as np\n",
        "data = {\n",
        "\"Имя\": [\"Анна\", \"Иван\", \"Ольга\", \"Петр\", \"Мария\", \"Дмитрий\"],\n",
        "\"Возраст\": [25, np.nan, 22, 40, 35, np.nan],\n",
        "\"Город\": [\"Москва\", \"СПб\", np.nan, \"Новосибирск\", \"СПб\",\n",
        "\"Екатеринбург\"],\n",
        "\"Доход\": [50000, 60000, np.nan, 70000, 65000, 55000]\n",
        "}\n",
        "df = pd.DataFrame(data)\n",
        "print(df)"
      ],
      "metadata": {
        "colab": {
          "base_uri": "https://localhost:8080/"
        },
        "id": "4bRAd-_T9-o2",
        "outputId": "6eccaf60-501e-44a9-ce06-66c288423749"
      },
      "execution_count": 1,
      "outputs": [
        {
          "output_type": "stream",
          "name": "stdout",
          "text": [
            "       Имя  Возраст         Город    Доход\n",
            "0     Анна     25.0        Москва  50000.0\n",
            "1     Иван      NaN           СПб  60000.0\n",
            "2    Ольга     22.0           NaN      NaN\n",
            "3     Петр     40.0   Новосибирск  70000.0\n",
            "4    Мария     35.0           СПб  65000.0\n",
            "5  Дмитрий      NaN  Екатеринбург  55000.0\n"
          ]
        }
      ]
    },
    {
      "cell_type": "code",
      "source": [
        "df_cleaned = df.dropna()\n",
        "print(df_cleaned)"
      ],
      "metadata": {
        "colab": {
          "base_uri": "https://localhost:8080/"
        },
        "id": "uBLJXmxSXyrd",
        "outputId": "777903d8-dbc4-4e06-ed66-8968485de179"
      },
      "execution_count": null,
      "outputs": [
        {
          "output_type": "stream",
          "name": "stdout",
          "text": [
            "     Имя  Возраст        Город    Доход\n",
            "0   Анна     25.0       Москва  50000.0\n",
            "3   Петр     40.0  Новосибирск  70000.0\n",
            "4  Мария     35.0          СПб  65000.0\n"
          ]
        }
      ]
    },
    {
      "cell_type": "code",
      "source": [
        "import pandas as pd\n",
        "import numpy as np\n",
        "df = pd.DataFrame({\n",
        "\"день\": [1, 2, 3, 4, 5],\n",
        "\"температура\": [20.0, np.nan, np.nan, 24.0, 25.0]\n",
        "})\n",
        "df[\"температура_interp\"] = df[\"температура\"].interpolate()\n",
        "print(df)"
      ],
      "metadata": {
        "colab": {
          "base_uri": "https://localhost:8080/"
        },
        "id": "5o7JyVdRX0fU",
        "outputId": "63b3c696-ce38-430b-8e6d-eed358765353"
      },
      "execution_count": 2,
      "outputs": [
        {
          "output_type": "stream",
          "name": "stdout",
          "text": [
            "   день  температура  температура_interp\n",
            "0     1         20.0           20.000000\n",
            "1     2          NaN           21.333333\n",
            "2     3          NaN           22.666667\n",
            "3     4         24.0           24.000000\n",
            "4     5         25.0           25.000000\n"
          ]
        }
      ]
    },
    {
      "cell_type": "code",
      "source": [
        "dates = pd.date_range(\"2024-01-01\", periods=5, freq=\"D\")\n",
        "df = pd.DataFrame({\n",
        "\"дата\": dates,\n",
        "\"уровень воды\": [1.2, np.nan, np.nan, 1.8, 2.0]\n",
        "})\n",
        "df.set_index(\"дата\", inplace=True)\n",
        "df[\"интерполяция\"] = df[\"уровень воды\"].interpolate(method=\"time\")\n",
        "print(df)"
      ],
      "metadata": {
        "colab": {
          "base_uri": "https://localhost:8080/"
        },
        "id": "x0jFBJvrX6tQ",
        "outputId": "662789e5-ceb3-445a-c058-43b3c173bea2"
      },
      "execution_count": null,
      "outputs": [
        {
          "output_type": "stream",
          "name": "stdout",
          "text": [
            "            уровень воды  интерполяция\n",
            "дата                                  \n",
            "2024-01-01           1.2           1.2\n",
            "2024-01-02           NaN           1.4\n",
            "2024-01-03           NaN           1.6\n",
            "2024-01-04           1.8           1.8\n",
            "2024-01-05           2.0           2.0\n"
          ]
        }
      ]
    },
    {
      "cell_type": "code",
      "source": [
        "import pandas as pd\n",
        "import numpy as np\n",
        "data = {\n",
        "\"Имя\": [\"Анна\", \"Иван\", \"Ольга\", \"Петр\", \"Мария\", \"Дмитрий\",\n",
        "\"Елена\"],\n",
        "\"Баланс на счете\": [50000, 60000, 45000, 70000, 65000, 400000,\n",
        "450000]\n",
        "}\n",
        "df = pd.DataFrame(data)\n",
        "print(df)"
      ],
      "metadata": {
        "colab": {
          "base_uri": "https://localhost:8080/"
        },
        "id": "x3tVUIUlX8DX",
        "outputId": "dbb9f206-5119-45b4-badd-71d39fba3cc1"
      },
      "execution_count": null,
      "outputs": [
        {
          "output_type": "stream",
          "name": "stdout",
          "text": [
            "       Имя  Баланс на счете\n",
            "0     Анна            50000\n",
            "1     Иван            60000\n",
            "2    Ольга            45000\n",
            "3     Петр            70000\n",
            "4    Мария            65000\n",
            "5  Дмитрий           400000\n",
            "6    Елена           450000\n"
          ]
        }
      ]
    },
    {
      "cell_type": "code",
      "source": [
        "import pandas as pd\n",
        "data = {\n",
        "\"Имя\": [\"Анна\", \"Иван\", \"Ольга\", \"Петр\", \"Мария\"],\n",
        "\"Возраст\": [25, 30, 22, 40, 35],\n",
        "\"Зарплата\": [50000, 60000, 45000, 70000, 65000]\n",
        "}\n",
        "df = pd.DataFrame(data)\n",
        "print(df)"
      ],
      "metadata": {
        "colab": {
          "base_uri": "https://localhost:8080/"
        },
        "id": "JPXEex5uYEx9",
        "outputId": "8727bb8b-3732-42ad-8465-829a7e010ce2"
      },
      "execution_count": null,
      "outputs": [
        {
          "output_type": "stream",
          "name": "stdout",
          "text": [
            "     Имя  Возраст  Зарплата\n",
            "0   Анна       25     50000\n",
            "1   Иван       30     60000\n",
            "2  Ольга       22     45000\n",
            "3   Петр       40     70000\n",
            "4  Мария       35     65000\n"
          ]
        }
      ]
    },
    {
      "cell_type": "code",
      "source": [
        "from sklearn.preprocessing import RobustScaler\n",
        "scaler = RobustScaler()\n",
        "scaled_values = scaler.fit_transform(df[[\"Возраст\", \"Зарплата\"]])\n",
        "df_scaled = df.copy()\n",
        "df_scaled[[\"Возраст\", \"Зарплата\"]] = scaled_values\n",
        "print(df_scaled)"
      ],
      "metadata": {
        "colab": {
          "base_uri": "https://localhost:8080/"
        },
        "id": "cYNP4DItYMWc",
        "outputId": "ac521ed3-a866-43a6-9768-1740cf7236cf"
      },
      "execution_count": null,
      "outputs": [
        {
          "output_type": "stream",
          "name": "stdout",
          "text": [
            "     Имя  Возраст  Зарплата\n",
            "0   Анна     -0.5 -0.666667\n",
            "1   Иван      0.0  0.000000\n",
            "2  Ольга     -0.8 -1.000000\n",
            "3   Петр      1.0  0.666667\n",
            "4  Мария      0.5  0.333333\n"
          ]
        }
      ]
    },
    {
      "cell_type": "code",
      "source": [
        "import pandas as pd\n",
        "data = {\n",
        "\"Имя\": [\"Анна\", \"Иван\", \"Ольга\", \"Петр\", \"Мария\"],\n",
        "\"Образование\": [\"среднее\", \"высшее\", \"начальное\", \"высшее\",\n",
        "\"среднее\"]\n",
        "}\n",
        "df = pd.DataFrame(data)\n",
        "print(df)"
      ],
      "metadata": {
        "colab": {
          "base_uri": "https://localhost:8080/"
        },
        "id": "KZJDIEx7YTBu",
        "outputId": "b82ac801-35d1-4cbe-b7cd-96448131af8c"
      },
      "execution_count": null,
      "outputs": [
        {
          "output_type": "stream",
          "name": "stdout",
          "text": [
            "     Имя Образование\n",
            "0   Анна     среднее\n",
            "1   Иван      высшее\n",
            "2  Ольга   начальное\n",
            "3   Петр      высшее\n",
            "4  Мария     среднее\n"
          ]
        }
      ]
    },
    {
      "cell_type": "code",
      "source": [
        "ordered_mapping = {\n",
        "\"начальное\": 0,\n",
        "\"среднее\": 1,\n",
        "\"высшее\": 2\n",
        "}\n",
        "df_ordered = df.copy()\n",
        "df_ordered[\"Образование\"] = df[\"Образование\"].map(ordered_mapping)\n",
        "print(df_ordered)"
      ],
      "metadata": {
        "colab": {
          "base_uri": "https://localhost:8080/"
        },
        "id": "maCgqBvOYVGl",
        "outputId": "2f886966-6bb2-4b0e-e261-3548ef201704"
      },
      "execution_count": null,
      "outputs": [
        {
          "output_type": "stream",
          "name": "stdout",
          "text": [
            "     Имя  Образование\n",
            "0   Анна            1\n",
            "1   Иван            2\n",
            "2  Ольга            0\n",
            "3   Петр            2\n",
            "4  Мария            1\n"
          ]
        }
      ]
    },
    {
      "cell_type": "code",
      "source": [
        "import pandas as pd\n",
        "data = {\n",
        "\"Имя\": [\"Анна\", \"Иван\", \"Ольга\", \"Петр\", \"Мария\"],\n",
        "\"Город\": [\"Москва\", \"СПб\", \"Казань\", \"Москва\", \"Казань\"]\n",
        "}\n",
        "df = pd.DataFrame(data)\n",
        "print(df)"
      ],
      "metadata": {
        "colab": {
          "base_uri": "https://localhost:8080/"
        },
        "id": "V73SZwHsYXWv",
        "outputId": "05613902-f943-44cd-c3ea-a65438597a9b"
      },
      "execution_count": null,
      "outputs": [
        {
          "output_type": "stream",
          "name": "stdout",
          "text": [
            "     Имя   Город\n",
            "0   Анна  Москва\n",
            "1   Иван     СПб\n",
            "2  Ольга  Казань\n",
            "3   Петр  Москва\n",
            "4  Мария  Казань\n"
          ]
        }
      ]
    }
  ]
}