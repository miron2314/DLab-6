{
  "nbformat": 4,
  "nbformat_minor": 0,
  "metadata": {
    "colab": {
      "provenance": []
    },
    "kernelspec": {
      "name": "python3",
      "display_name": "Python 3"
    },
    "language_info": {
      "name": "python"
    }
  },
  "cells": [
    {
      "cell_type": "markdown",
      "source": [
        "#Задание 5. Комплексный EDA\n",
        "##Датасет: heart disease (заболевания сердца)\n",
        "##Источник: https://www.kaggle.com/datasets/fedesoriano/heart-failure-prediction\n",
        "1. Обзор структуры данных ( .info() , .describe() ).\n",
        "2. Обнаружение и обработка пропущенных значений.\n",
        "3. Обнаружение и удаление выбросов по признакам: age , cholesterol ,\n",
        "restingbp , maxhr .\n",
        "4. Масштабирование числовых признаков.\n",
        "5. Кодирование категориальных признаков: sex , chestpain , exerciseangina ,\n",
        "restecg .\n",
        "6. Подготовьте отчёт в виде Jupyter-ноутбука с комментариями к каждому этапу и\n",
        "промежуточными результатами."
      ],
      "metadata": {
        "id": "zs3tvNg4DYm1"
      }
    },
    {
      "cell_type": "code",
      "source": [
        "import pandas as pd"
      ],
      "metadata": {
        "id": "N7hJrAQdIhtt"
      },
      "execution_count": 9,
      "outputs": []
    },
    {
      "cell_type": "markdown",
      "source": [
        "#1. Обзор структуры данных"
      ],
      "metadata": {
        "id": "6qjh1Al6JE1J"
      }
    },
    {
      "cell_type": "code",
      "execution_count": 16,
      "metadata": {
        "colab": {
          "base_uri": "https://localhost:8080/"
        },
        "id": "N9DqgF2FIOpa",
        "outputId": "1824ce46-1af0-4797-dd81-43df4e2abd2a"
      },
      "outputs": [
        {
          "output_type": "stream",
          "name": "stdout",
          "text": [
            "<class 'pandas.core.frame.DataFrame'>\n",
            "RangeIndex: 918 entries, 0 to 917\n",
            "Data columns (total 12 columns):\n",
            " #   Column          Non-Null Count  Dtype  \n",
            "---  ------          --------------  -----  \n",
            " 0   Age             918 non-null    int64  \n",
            " 1   Sex             918 non-null    object \n",
            " 2   ChestPainType   918 non-null    object \n",
            " 3   RestingBP       918 non-null    int64  \n",
            " 4   Cholesterol     918 non-null    int64  \n",
            " 5   FastingBS       918 non-null    int64  \n",
            " 6   RestingECG      918 non-null    object \n",
            " 7   MaxHR           918 non-null    int64  \n",
            " 8   ExerciseAngina  918 non-null    object \n",
            " 9   Oldpeak         918 non-null    float64\n",
            " 10  ST_Slope        918 non-null    object \n",
            " 11  HeartDisease    918 non-null    int64  \n",
            "dtypes: float64(1), int64(6), object(5)\n",
            "memory usage: 86.2+ KB\n",
            "None\n",
            "              Age   RestingBP  Cholesterol   FastingBS       MaxHR  \\\n",
            "count  918.000000  918.000000   918.000000  918.000000  918.000000   \n",
            "mean    53.510893  132.396514   198.799564    0.233115  136.809368   \n",
            "std      9.432617   18.514154   109.384145    0.423046   25.460334   \n",
            "min     28.000000    0.000000     0.000000    0.000000   60.000000   \n",
            "25%     47.000000  120.000000   173.250000    0.000000  120.000000   \n",
            "50%     54.000000  130.000000   223.000000    0.000000  138.000000   \n",
            "75%     60.000000  140.000000   267.000000    0.000000  156.000000   \n",
            "max     77.000000  200.000000   603.000000    1.000000  202.000000   \n",
            "\n",
            "          Oldpeak  HeartDisease  \n",
            "count  918.000000    918.000000  \n",
            "mean     0.887364      0.553377  \n",
            "std      1.066570      0.497414  \n",
            "min     -2.600000      0.000000  \n",
            "25%      0.000000      0.000000  \n",
            "50%      0.600000      1.000000  \n",
            "75%      1.500000      1.000000  \n",
            "max      6.200000      1.000000  \n"
          ]
        }
      ],
      "source": [
        "# Загрузка данных\n",
        "heart_disease_df = pd.read_csv('heart.csv')\n",
        "\n",
        "# Обзор структуры\n",
        "print(heart_disease_df.info())\n",
        "\n",
        "# Обзор статистики\n",
        "print(heart_disease_df.describe())"
      ]
    },
    {
      "cell_type": "markdown",
      "source": [
        "#2. Обнаружение и обработка пропущенных значений"
      ],
      "metadata": {
        "id": "lSsIhDvUJGS_"
      }
    },
    {
      "cell_type": "code",
      "source": [
        "print(heart_disease_df.isnull().sum())\n",
        "for column in ['RestingBP', 'Cholesterol', 'MaxHR']:\n",
        "    heart_disease_df[column].fillna(heart_disease_df[column].median(), inplace=True)\n",
        "heart_disease_df.dropna(subset=['ChestPainType', 'ExerciseAngina', 'RestingECG'], inplace=True)"
      ],
      "metadata": {
        "colab": {
          "base_uri": "https://localhost:8080/"
        },
        "id": "UZAlUqsjITPH",
        "outputId": "d2a4e61a-a357-4ead-b3bb-24f96967178b"
      },
      "execution_count": 17,
      "outputs": [
        {
          "output_type": "stream",
          "name": "stdout",
          "text": [
            "Age               0\n",
            "Sex               0\n",
            "ChestPainType     0\n",
            "RestingBP         0\n",
            "Cholesterol       0\n",
            "FastingBS         0\n",
            "RestingECG        0\n",
            "MaxHR             0\n",
            "ExerciseAngina    0\n",
            "Oldpeak           0\n",
            "ST_Slope          0\n",
            "HeartDisease      0\n",
            "dtype: int64\n"
          ]
        },
        {
          "output_type": "stream",
          "name": "stderr",
          "text": [
            "/tmp/ipython-input-17-3302441460.py:3: FutureWarning: A value is trying to be set on a copy of a DataFrame or Series through chained assignment using an inplace method.\n",
            "The behavior will change in pandas 3.0. This inplace method will never work because the intermediate object on which we are setting values always behaves as a copy.\n",
            "\n",
            "For example, when doing 'df[col].method(value, inplace=True)', try using 'df.method({col: value}, inplace=True)' or df[col] = df[col].method(value) instead, to perform the operation inplace on the original object.\n",
            "\n",
            "\n",
            "  heart_disease_df[column].fillna(heart_disease_df[column].median(), inplace=True)\n"
          ]
        }
      ]
    },
    {
      "cell_type": "markdown",
      "source": [
        "#3. Обнаружение и удаление выбросов\n",
        "\n"
      ],
      "metadata": {
        "id": "GI6UoUU0JID1"
      }
    },
    {
      "cell_type": "code",
      "source": [
        "def remove_outliers(df, column):\n",
        "    q1 = df[column].quantile(0.25)\n",
        "    q3 = df[column].quantile(0.75)\n",
        "    iqr = q3 - q1\n",
        "    lower_bound = q1 - 1.5 * iqr\n",
        "    upper_bound = q3 + 1.5 * iqr\n",
        "    return df[(df[column] >= lower_bound) & (df[column] <= upper_bound)]\n",
        "for feature in ['Age', 'Cholesterol', 'RestingBP', 'MaxHR']:\n",
        "    heart_disease_df = remove_outliers(heart_disease_df, feature)"
      ],
      "metadata": {
        "id": "TuV6o8YKIT-r"
      },
      "execution_count": 18,
      "outputs": []
    },
    {
      "cell_type": "markdown",
      "source": [
        "#4. Масштабирование числовых признаков"
      ],
      "metadata": {
        "id": "4wvcpib8JKJo"
      }
    },
    {
      "cell_type": "code",
      "source": [
        "from sklearn.preprocessing import StandardScaler\n",
        "\n",
        "# Числовые признаки для масштабирования\n",
        "numeric_features = ['Age', 'RestingBP', 'Cholesterol', 'MaxHR']\n",
        "scaler = StandardScaler()\n",
        "heart_disease_df[numeric_features] = scaler.fit_transform(heart_disease_df[numeric_features])"
      ],
      "metadata": {
        "id": "b-IJxQdZIVSu"
      },
      "execution_count": 19,
      "outputs": []
    },
    {
      "cell_type": "markdown",
      "source": [],
      "metadata": {
        "id": "pwD-cNW6TFNo"
      }
    },
    {
      "cell_type": "markdown",
      "source": [],
      "metadata": {
        "id": "d5i9_Hf6TITO"
      }
    },
    {
      "cell_type": "markdown",
      "source": [
        "#5. Кодирование категориальных признаков"
      ],
      "metadata": {
        "id": "FqTd4e44JMaK"
      }
    },
    {
      "cell_type": "code",
      "source": [
        "heart_disease_df = pd.get_dummies(\n",
        "    heart_disease_df,\n",
        "    columns=['Sex', 'ChestPainType', 'ExerciseAngina', 'RestingECG'],\n",
        "    drop_first=True\n",
        ")"
      ],
      "metadata": {
        "id": "GiPSE07xIWUG"
      },
      "execution_count": 20,
      "outputs": []
    },
    {
      "cell_type": "markdown",
      "source": [
        "Итоговый датасет"
      ],
      "metadata": {
        "id": "AF8cpvFrJOVJ"
      }
    },
    {
      "cell_type": "code",
      "source": [
        "print(heart_disease_df.head())"
      ],
      "metadata": {
        "colab": {
          "base_uri": "https://localhost:8080/"
        },
        "id": "ivhIPHmwIXse",
        "outputId": "d8acc865-a470-4935-8ff6-47264733c206"
      },
      "execution_count": null,
      "outputs": [
        {
          "output_type": "stream",
          "name": "stdout",
          "text": [
            "        Age  RestingBP  Cholesterol  FastingBS     MaxHR  Oldpeak ST_Slope  \\\n",
            "0 -1.343776   0.539269     0.962124          0  1.296933      0.0       Up   \n",
            "1 -0.400479   1.836853    -1.180312          0  0.640055      1.0     Flat   \n",
            "2 -1.658208  -0.109523     0.844191          0 -1.741130      0.0       Up   \n",
            "3 -0.505290   0.409510    -0.512029          0 -1.330581      1.5     Flat   \n",
            "4  0.123574   1.188061    -0.885481          0 -0.755812      0.0       Up   \n",
            "\n",
            "   HeartDisease  Sex_M  ChestPainType_ATA  ChestPainType_NAP  \\\n",
            "0             0   True               True              False   \n",
            "1             1  False              False               True   \n",
            "2             0   True               True              False   \n",
            "3             1  False              False              False   \n",
            "4             0   True              False               True   \n",
            "\n",
            "   ChestPainType_TA  ExerciseAngina_Y  RestingECG_Normal  RestingECG_ST  \n",
            "0             False             False               True          False  \n",
            "1             False             False               True          False  \n",
            "2             False             False              False           True  \n",
            "3             False              True               True          False  \n",
            "4             False             False               True          False  \n"
          ]
        }
      ]
    }
  ]
}